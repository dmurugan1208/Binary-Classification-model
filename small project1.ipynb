{
 "cells": [
  {
   "cell_type": "code",
   "execution_count": 55,
   "id": "63c43671",
   "metadata": {},
   "outputs": [],
   "source": [
    "import pandas as pd\n",
    "import matplotlib.pyplot as plt\n",
    "import numpy as np\n",
    "from sklearn.linear_model import LinearRegression\n",
    "from sklearn.model_selection import train_test_split\n",
    "from sklearn.preprocessing import LabelEncoder\n",
    "from sklearn.preprocessing import MinMaxScaler\n",
    "from sklearn.decomposition import PCA\n",
    "from sklearn.preprocessing import StandardScaler\n",
    "from sklearn.model_selection import KFold\n",
    "from sklearn.linear_model import LogisticRegression\n",
    "from sklearn.metrics import accuracy_score\n",
    "from sklearn.metrics import accuracy_score, precision_score, recall_score, f1_score\n",
    "from sklearn.model_selection import GridSearchCV\n",
    "from sklearn.svm import SVC\n",
    "from sklearn.model_selection import cross_val_score, KFold\n",
    "from sklearn.neural_network import MLPClassifier\n",
    "from sklearn.tree import DecisionTreeClassifier\n",
    "from sklearn.model_selection import GridSearchCV\n",
    "from sklearn.neighbors import KNeighborsClassifier\n",
    "from sklearn.preprocessing import StandardScaler\n"
   ]
  },
  {
   "cell_type": "markdown",
   "id": "7488c4e7",
   "metadata": {},
   "source": [
    "DATA PREPROCESSING"
   ]
  },
  {
   "cell_type": "code",
   "execution_count": 17,
   "id": "d8c1cce8",
   "metadata": {
    "scrolled": false
   },
   "outputs": [
    {
     "name": "stdout",
     "output_type": "stream",
     "text": [
      "Training Dataset:\n",
      "        id diagnosis  radius_mean  texture_mean  perimeter_mean  area_mean  \\\n",
      "0    90312         M       19.550         23.21          128.90     1174.0   \n",
      "1   906564         B       14.690         13.98           98.22      656.1   \n",
      "2  8910506         B       12.870         16.21           82.38      512.2   \n",
      "3   917897         B        9.847         15.68           63.00      293.2   \n",
      "4   898143         B        9.606         16.84           61.64      280.5   \n",
      "\n",
      "   smoothness_mean  compactness_mean  concavity_mean  concave points_mean  \\\n",
      "0          0.10100           0.13180         0.18560              0.10210   \n",
      "1          0.10310           0.18360         0.14500              0.06300   \n",
      "2          0.09425           0.06219         0.03900              0.01615   \n",
      "3          0.09492           0.08419         0.02330              0.02416   \n",
      "4          0.08481           0.09228         0.08422              0.02292   \n",
      "\n",
      "   ...  radius_worst  texture_worst  perimeter_worst  area_worst  \\\n",
      "0  ...         20.82          30.44           142.00      1313.0   \n",
      "1  ...         16.46          18.34           114.10       809.2   \n",
      "2  ...         13.90          23.64            89.27       597.5   \n",
      "3  ...         11.24          22.99            74.32       376.5   \n",
      "4  ...         10.75          23.07            71.25       353.6   \n",
      "\n",
      "   smoothness_worst  compactness_worst  concavity_worst  concave points_worst  \\\n",
      "0            0.1251             0.2414          0.38290               0.18250   \n",
      "1            0.1312             0.3635          0.32190               0.11080   \n",
      "2            0.1256             0.1808          0.19920               0.05780   \n",
      "3            0.1419             0.2243          0.08434               0.06528   \n",
      "4            0.1233             0.3416          0.43410               0.08120   \n",
      "\n",
      "   symmetry_worst  fractal_dimension_worst  \n",
      "0          0.2576                  0.07602  \n",
      "1          0.2827                  0.09208  \n",
      "2          0.3604                  0.07062  \n",
      "3          0.2502                  0.09209  \n",
      "4          0.2982                  0.09825  \n",
      "\n",
      "[5 rows x 32 columns]\n",
      "\n",
      "Testing Dataset:\n",
      "       id diagnosis  radius_mean  texture_mean  perimeter_mean  area_mean  \\\n",
      "0   89122         M        19.40         18.18          127.20     1145.0   \n",
      "1  906539         B        11.57         19.04           74.20      409.7   \n",
      "2  864726         B         8.95         15.76           58.74      245.2   \n",
      "3   89827         B        11.06         14.96           71.49      373.9   \n",
      "4  893548         B        13.05         13.84           82.71      530.6   \n",
      "\n",
      "   smoothness_mean  compactness_mean  concavity_mean  concave points_mean  \\\n",
      "0          0.10370           0.14420        0.162600             0.094640   \n",
      "1          0.08546           0.07722        0.054850             0.014280   \n",
      "2          0.09462           0.12430        0.092630             0.023080   \n",
      "3          0.10330           0.09097        0.053970             0.033410   \n",
      "4          0.08352           0.03735        0.004559             0.008829   \n",
      "\n",
      "   ...  radius_worst  texture_worst  perimeter_worst  area_worst  \\\n",
      "0  ...        23.790          28.65           152.40      1628.0   \n",
      "1  ...        13.070          26.98            86.43       520.5   \n",
      "2  ...         9.414          17.07            63.34       270.0   \n",
      "3  ...        11.920          19.90            79.76       440.0   \n",
      "4  ...        14.730          17.40            93.96       672.4   \n",
      "\n",
      "   smoothness_worst  compactness_worst  concavity_worst  concave points_worst  \\\n",
      "0            0.1518            0.37490          0.43160               0.22520   \n",
      "1            0.1249            0.19370          0.25600               0.06664   \n",
      "2            0.1179            0.18790          0.15440               0.03846   \n",
      "3            0.1418            0.22100          0.22990               0.10750   \n",
      "4            0.1016            0.05847          0.01824               0.03532   \n",
      "\n",
      "   symmetry_worst  fractal_dimension_worst  \n",
      "0          0.3590                  0.07787  \n",
      "1          0.3035                  0.08284  \n",
      "2          0.1652                  0.07722  \n",
      "3          0.3301                  0.09080  \n",
      "4          0.2107                  0.06580  \n",
      "\n",
      "[5 rows x 32 columns]\n"
     ]
    }
   ],
   "source": [
    "# Load the training dataset\n",
    "train_file_name = 'train.csv'\n",
    "train_data = pd.read_csv(train_file_name)\n",
    "\n",
    "# Load the testing dataset\n",
    "test_file_name = 'test.csv'\n",
    "test_data = pd.read_csv(test_file_name)\n",
    "print(\"Training Dataset:\")\n",
    "print(train_data.head())\n",
    "print(\"\\nTesting Dataset:\")\n",
    "print(test_data.head())"
   ]
  },
  {
   "cell_type": "code",
   "execution_count": 18,
   "id": "71f07b2e",
   "metadata": {},
   "outputs": [],
   "source": [
    "data = pd.read_csv(\"train.csv\")  # Replace \"your_dataset.csv\" with the actual file path\n",
    "\n",
    "features_with_missing_values = [\n",
    "    'radius_mean', 'texture_mean', 'perimeter_mean', 'area_mean',\n",
    "    'smoothness_mean', 'compactness_mean', 'concavity_mean', 'concave points_mean',\n",
    "    'symmetry_mean', 'fractal_dimension_mean', 'radius_se', 'texture_se',\n",
    "    'perimeter_se', 'area_se', 'smoothness_se', 'compactness_se',\n",
    "    'concavity_se', 'concave points_se', 'symmetry_se', 'fractal_dimension_se',\n",
    "    'radius_worst', 'texture_worst', 'perimeter_worst', 'area_worst',\n",
    "    'smoothness_worst', 'compactness_worst', 'concavity_worst', 'concave points_worst',\n",
    "    'symmetry_worst', 'fractal_dimension_worst'\n",
    "]\n",
    "\n",
    "label_encoder = LabelEncoder()\n",
    "data['diagnosis'] = label_encoder.fit_transform(data['diagnosis'])\n",
    "\n",
    "# Create a copy of the dataset\n",
    "data_filled = data.copy()\n",
    "\n",
    "# Loop through each feature with missing data\n",
    "for feature in features_with_missing_values:\n",
    "    if data_filled[feature].eq(0).any():\n",
    "        missing_data = data_filled[data_filled[feature] == 0]\n",
    "        non_missing_data = data_filled[data_filled[feature] != 0]\n",
    "\n",
    "        X = non_missing_data.drop(columns=[feature])\n",
    "        y = non_missing_data[feature]\n",
    "\n",
    "        # Check if there are samples with missing data for training\n",
    "        if not missing_data.empty:\n",
    "            X_train, X_test, y_train, y_test = train_test_split(X, y, test_size=0.2, random_state=42)\n",
    "\n",
    "            # Train a linear regression model\n",
    "            model = LinearRegression()\n",
    "            model.fit(X_train, y_train)\n",
    "            predicted_values = model.predict(missing_data.drop(columns=[feature]))\n",
    "            data_filled.loc[data_filled[feature] == 0, feature] = predicted_values"
   ]
  },
  {
   "cell_type": "code",
   "execution_count": 19,
   "id": "de3ee04a",
   "metadata": {},
   "outputs": [],
   "source": [
    "scaler = MinMaxScaler()\n",
    "data_normalized = data_filled.copy()\n",
    "data_normalized[data_normalized.columns[1:]] = scaler.fit_transform(data_normalized[data_normalized.columns[1:]])"
   ]
  },
  {
   "cell_type": "code",
   "execution_count": 20,
   "id": "f6e966f6",
   "metadata": {
    "scrolled": true
   },
   "outputs": [
    {
     "data": {
      "text/html": [
       "<div>\n",
       "<style scoped>\n",
       "    .dataframe tbody tr th:only-of-type {\n",
       "        vertical-align: middle;\n",
       "    }\n",
       "\n",
       "    .dataframe tbody tr th {\n",
       "        vertical-align: top;\n",
       "    }\n",
       "\n",
       "    .dataframe thead th {\n",
       "        text-align: right;\n",
       "    }\n",
       "</style>\n",
       "<table border=\"1\" class=\"dataframe\">\n",
       "  <thead>\n",
       "    <tr style=\"text-align: right;\">\n",
       "      <th></th>\n",
       "      <th>id</th>\n",
       "      <th>diagnosis</th>\n",
       "      <th>radius_mean</th>\n",
       "      <th>texture_mean</th>\n",
       "      <th>perimeter_mean</th>\n",
       "      <th>area_mean</th>\n",
       "      <th>smoothness_mean</th>\n",
       "      <th>compactness_mean</th>\n",
       "      <th>concavity_mean</th>\n",
       "      <th>concave points_mean</th>\n",
       "      <th>...</th>\n",
       "      <th>radius_worst</th>\n",
       "      <th>texture_worst</th>\n",
       "      <th>perimeter_worst</th>\n",
       "      <th>area_worst</th>\n",
       "      <th>smoothness_worst</th>\n",
       "      <th>compactness_worst</th>\n",
       "      <th>concavity_worst</th>\n",
       "      <th>concave points_worst</th>\n",
       "      <th>symmetry_worst</th>\n",
       "      <th>fractal_dimension_worst</th>\n",
       "    </tr>\n",
       "  </thead>\n",
       "  <tbody>\n",
       "    <tr>\n",
       "      <th>0</th>\n",
       "      <td>90312</td>\n",
       "      <td>1.0</td>\n",
       "      <td>0.594870</td>\n",
       "      <td>0.456544</td>\n",
       "      <td>0.588142</td>\n",
       "      <td>0.437116</td>\n",
       "      <td>0.525361</td>\n",
       "      <td>0.329672</td>\n",
       "      <td>0.445504</td>\n",
       "      <td>0.526151</td>\n",
       "      <td>...</td>\n",
       "      <td>0.458556</td>\n",
       "      <td>0.490938</td>\n",
       "      <td>0.456148</td>\n",
       "      <td>0.277182</td>\n",
       "      <td>0.305338</td>\n",
       "      <td>0.192189</td>\n",
       "      <td>0.351369</td>\n",
       "      <td>0.665118</td>\n",
       "      <td>0.240200</td>\n",
       "      <td>0.137610</td>\n",
       "    </tr>\n",
       "    <tr>\n",
       "      <th>1</th>\n",
       "      <td>906564</td>\n",
       "      <td>0.0</td>\n",
       "      <td>0.364854</td>\n",
       "      <td>0.144403</td>\n",
       "      <td>0.376132</td>\n",
       "      <td>0.217434</td>\n",
       "      <td>0.548170</td>\n",
       "      <td>0.492233</td>\n",
       "      <td>0.352168</td>\n",
       "      <td>0.339193</td>\n",
       "      <td>...</td>\n",
       "      <td>0.303451</td>\n",
       "      <td>0.168443</td>\n",
       "      <td>0.317197</td>\n",
       "      <td>0.153362</td>\n",
       "      <td>0.350756</td>\n",
       "      <td>0.312975</td>\n",
       "      <td>0.305844</td>\n",
       "      <td>0.400678</td>\n",
       "      <td>0.299834</td>\n",
       "      <td>0.242949</td>\n",
       "    </tr>\n",
       "    <tr>\n",
       "      <th>2</th>\n",
       "      <td>8910506</td>\n",
       "      <td>0.0</td>\n",
       "      <td>0.278716</td>\n",
       "      <td>0.219817</td>\n",
       "      <td>0.266671</td>\n",
       "      <td>0.156394</td>\n",
       "      <td>0.452047</td>\n",
       "      <td>0.111219</td>\n",
       "      <td>0.108484</td>\n",
       "      <td>0.115179</td>\n",
       "      <td>...</td>\n",
       "      <td>0.212380</td>\n",
       "      <td>0.309701</td>\n",
       "      <td>0.193536</td>\n",
       "      <td>0.101332</td>\n",
       "      <td>0.309061</td>\n",
       "      <td>0.132241</td>\n",
       "      <td>0.214270</td>\n",
       "      <td>0.205207</td>\n",
       "      <td>0.484438</td>\n",
       "      <td>0.102191</td>\n",
       "    </tr>\n",
       "    <tr>\n",
       "      <th>3</th>\n",
       "      <td>917897</td>\n",
       "      <td>0.0</td>\n",
       "      <td>0.135643</td>\n",
       "      <td>0.201894</td>\n",
       "      <td>0.132748</td>\n",
       "      <td>0.063499</td>\n",
       "      <td>0.459324</td>\n",
       "      <td>0.180260</td>\n",
       "      <td>0.072391</td>\n",
       "      <td>0.153479</td>\n",
       "      <td>...</td>\n",
       "      <td>0.117752</td>\n",
       "      <td>0.292377</td>\n",
       "      <td>0.119080</td>\n",
       "      <td>0.047016</td>\n",
       "      <td>0.430422</td>\n",
       "      <td>0.175273</td>\n",
       "      <td>0.128547</td>\n",
       "      <td>0.232795</td>\n",
       "      <td>0.222618</td>\n",
       "      <td>0.243015</td>\n",
       "    </tr>\n",
       "    <tr>\n",
       "      <th>4</th>\n",
       "      <td>898143</td>\n",
       "      <td>0.0</td>\n",
       "      <td>0.124237</td>\n",
       "      <td>0.241123</td>\n",
       "      <td>0.123350</td>\n",
       "      <td>0.058112</td>\n",
       "      <td>0.349517</td>\n",
       "      <td>0.205649</td>\n",
       "      <td>0.212440</td>\n",
       "      <td>0.147550</td>\n",
       "      <td>...</td>\n",
       "      <td>0.100320</td>\n",
       "      <td>0.294510</td>\n",
       "      <td>0.103790</td>\n",
       "      <td>0.041388</td>\n",
       "      <td>0.291937</td>\n",
       "      <td>0.291311</td>\n",
       "      <td>0.389581</td>\n",
       "      <td>0.291510</td>\n",
       "      <td>0.336660</td>\n",
       "      <td>0.283419</td>\n",
       "    </tr>\n",
       "  </tbody>\n",
       "</table>\n",
       "<p>5 rows × 32 columns</p>\n",
       "</div>"
      ],
      "text/plain": [
       "        id  diagnosis  radius_mean  texture_mean  perimeter_mean  area_mean  \\\n",
       "0    90312        1.0     0.594870      0.456544        0.588142   0.437116   \n",
       "1   906564        0.0     0.364854      0.144403        0.376132   0.217434   \n",
       "2  8910506        0.0     0.278716      0.219817        0.266671   0.156394   \n",
       "3   917897        0.0     0.135643      0.201894        0.132748   0.063499   \n",
       "4   898143        0.0     0.124237      0.241123        0.123350   0.058112   \n",
       "\n",
       "   smoothness_mean  compactness_mean  concavity_mean  concave points_mean  \\\n",
       "0         0.525361          0.329672        0.445504             0.526151   \n",
       "1         0.548170          0.492233        0.352168             0.339193   \n",
       "2         0.452047          0.111219        0.108484             0.115179   \n",
       "3         0.459324          0.180260        0.072391             0.153479   \n",
       "4         0.349517          0.205649        0.212440             0.147550   \n",
       "\n",
       "   ...  radius_worst  texture_worst  perimeter_worst  area_worst  \\\n",
       "0  ...      0.458556       0.490938         0.456148    0.277182   \n",
       "1  ...      0.303451       0.168443         0.317197    0.153362   \n",
       "2  ...      0.212380       0.309701         0.193536    0.101332   \n",
       "3  ...      0.117752       0.292377         0.119080    0.047016   \n",
       "4  ...      0.100320       0.294510         0.103790    0.041388   \n",
       "\n",
       "   smoothness_worst  compactness_worst  concavity_worst  concave points_worst  \\\n",
       "0          0.305338           0.192189         0.351369              0.665118   \n",
       "1          0.350756           0.312975         0.305844              0.400678   \n",
       "2          0.309061           0.132241         0.214270              0.205207   \n",
       "3          0.430422           0.175273         0.128547              0.232795   \n",
       "4          0.291937           0.291311         0.389581              0.291510   \n",
       "\n",
       "   symmetry_worst  fractal_dimension_worst  \n",
       "0        0.240200                 0.137610  \n",
       "1        0.299834                 0.242949  \n",
       "2        0.484438                 0.102191  \n",
       "3        0.222618                 0.243015  \n",
       "4        0.336660                 0.283419  \n",
       "\n",
       "[5 rows x 32 columns]"
      ]
     },
     "execution_count": 20,
     "metadata": {},
     "output_type": "execute_result"
    }
   ],
   "source": [
    "data_normalized.head()"
   ]
  },
  {
   "cell_type": "markdown",
   "id": "8643e128",
   "metadata": {},
   "source": [
    "DATA VISUALIZATION"
   ]
  },
  {
   "cell_type": "code",
   "execution_count": 21,
   "id": "f441e6af",
   "metadata": {},
   "outputs": [
    {
     "name": "stdout",
     "output_type": "stream",
     "text": [
      "        PC1       PC2  diagnosis\n",
      "0  4.777940 -0.145515          1\n",
      "1  1.961813  2.220867          0\n",
      "2 -2.310494 -0.030414          0\n",
      "3 -3.295110  1.259088          0\n",
      "4 -2.026880  2.564343          0\n"
     ]
    }
   ],
   "source": [
    "#drop non-numeric columns like 'diagnosis'\n",
    "numeric_data = data.drop(columns=['diagnosis'])\n",
    "\n",
    "numeric_data.fillna(numeric_data.mean(), inplace=True)  \n",
    "\n",
    "# Standardize the features by scaling them\n",
    "scaler = StandardScaler()\n",
    "numeric_data_scaled = scaler.fit_transform(numeric_data)\n",
    "\n",
    "# Perform PCA on the scaled data\n",
    "pca = PCA(n_components=2)\n",
    "principal_components = pca.fit_transform(numeric_data_scaled)\n",
    "\n",
    "principal_df = pd.DataFrame(data=principal_components, columns=['PC1', 'PC2'])\n",
    "\n",
    "final_df = pd.concat([principal_df, data['diagnosis']], axis=1)\n",
    "\n",
    "print(final_df.head())"
   ]
  },
  {
   "cell_type": "code",
   "execution_count": 22,
   "id": "f2c9ba40",
   "metadata": {},
   "outputs": [
    {
     "data": {
      "image/png": "[encoded data removed]",
      "text/plain": [
       "<Figure size 640x480 with 1 Axes>"
      ]
     },
     "metadata": {},
     "output_type": "display_data"
    }
   ],
   "source": [
    "# Extract positive and negative data\n",
    "positive_data = final_df[final_df['diagnosis'] == 1]\n",
    "negative_data = final_df[final_df['diagnosis'] == 0]\n",
    "\n",
    "# Create a figure and axis object\n",
    "fig, ax = plt.subplots()\n",
    "\n",
    "if not positive_data.empty:\n",
    "    ax.scatter(positive_data['PC1'], positive_data['PC2'], color='red', label='Positive', alpha=0.5, s=50)\n",
    "\n",
    "if not negative_data.empty:\n",
    "    ax.scatter(negative_data['PC1'], negative_data['PC2'], color='blue', label='Negative', alpha=0.5, s=50)\n",
    "ax.set_xlabel('PC1')\n",
    "ax.set_ylabel('PC2')\n",
    "ax.set_title('Dataset Visualization in 2D Space')\n",
    "handles, labels = ax.get_legend_handles_labels() \n",
    "if handles: \n",
    "    ax.legend(handles, labels)\n",
    "\n",
    "plt.show()"
   ]
  },
  {
   "cell_type": "markdown",
   "id": "ba3dc728",
   "metadata": {},
   "source": [
    "LOGISTIC REGRESSION WITH REGULARIZER"
   ]
  },
  {
   "cell_type": "code",
   "execution_count": 34,
   "id": "f41ef1cc",
   "metadata": {
    "scrolled": false
   },
   "outputs": [
    {
     "name": "stdout",
     "output_type": "stream",
     "text": [
      "Results for the train dataset:\n",
      "Best regularization weight: 0.01\n",
      "Average cross-validation accuracy with best weight: 0.4429746835443038\n"
     ]
    }
   ],
   "source": [
    "train_data = pd.read_csv('train.csv')\n",
    "test_data = pd.read_csv('test.csv')\n",
    "\n",
    "regularization_weights = [0.01, 0.1, 1, 10, 100]\n",
    "\n",
    "def cross_validation_and_evaluation(X_train, y_train, regularization_weights):\n",
    "    kf = KFold(n_splits=5, shuffle=True, random_state=42)\n",
    "    cv_scores = {}\n",
    "\n",
    "    # Iterate over each regularization weight\n",
    "    for weight in regularization_weights:\n",
    "        scores = []\n",
    "\n",
    "        for train_index, val_index in kf.split(X_train):\n",
    "            X_train_fold, X_val = X_train.iloc[train_index], X_train.iloc[val_index]\n",
    "            y_train_fold, y_val = y_train.iloc[train_index], y_train.iloc[val_index]\n",
    "\n",
    "            # Initialize and train the model with the current regularization weight\n",
    "            model = LogisticRegression(C=weight)\n",
    "            model.fit(X_train_fold, y_train_fold)\n",
    "\n",
    "            # Make predictions on the validation set and compute accuracy\n",
    "            y_pred = model.predict(X_val)\n",
    "            accuracy = accuracy_score(y_val, y_pred)\n",
    "\n",
    "            # Append accuracy to scores list\n",
    "            scores.append(accuracy)\n",
    "\n",
    "        # Calculate average accuracy across all folds\n",
    "        avg_score = sum(scores) / len(scores)\n",
    "\n",
    "        # Store average score for this weight in the dictionary\n",
    "        cv_scores[weight] = avg_score\n",
    "\n",
    "    # Find the regularization weight with the highest average score\n",
    "    best_weight = max(cv_scores, key=cv_scores.get)\n",
    "    best_score = cv_scores[best_weight]\n",
    "\n",
    "    print(f\"Best regularization weight: {best_weight}\")\n",
    "    print(f\"Average cross-validation accuracy with best weight: {best_score}\")\n",
    "\n",
    "# Split data into features and target for train dataset\n",
    "X_train = train_data.drop(columns=['diagnosis'])\n",
    "y_train = train_data['diagnosis']\n",
    "\n",
    "print(\"Results for the train dataset:\")\n",
    "cross_validation_and_evaluation(X_train, y_train, regularization_weights)"
   ]
  },
  {
   "cell_type": "code",
   "execution_count": 24,
   "id": "bb9bd334",
   "metadata": {
    "scrolled": true
   },
   "outputs": [
    {
     "name": "stdout",
     "output_type": "stream",
     "text": [
      "Accuracy: 0.39520958083832336\n",
      "Precision: 0.39520958083832336\n",
      "Recall: 1.0\n",
      "F1 Score: 0.5665236051502146\n"
     ]
    }
   ],
   "source": [
    "X_train = train_data.drop(columns=['diagnosis'])\n",
    "y_train = train_data['diagnosis']\n",
    "\n",
    "X_test = test_data.drop(columns=['diagnosis'])\n",
    "y_test = test_data['diagnosis']\n",
    "\n",
    "model = LogisticRegression()\n",
    "model.fit(X_train, y_train)\n",
    "\n",
    "y_pred = model.predict(X_test)\n",
    "\n",
    "# Calculating evaluation metrics\n",
    "accuracy = accuracy_score(y_test, y_pred)\n",
    "precision = precision_score(y_test, y_pred, pos_label='M')  \n",
    "recall = recall_score(y_test, y_pred, pos_label='M') \n",
    "f1 = f1_score(y_test, y_pred, pos_label='M') \n",
    "\n",
    "# Reporting the results\n",
    "print(\"Accuracy:\", accuracy)\n",
    "print(\"Precision:\", precision)\n",
    "print(\"Recall:\", recall)\n",
    "print(\"F1 Score:\", f1)"
   ]
  },
  {
   "cell_type": "markdown",
   "id": "6a46e426",
   "metadata": {},
   "source": [
    "SVM"
   ]
  },
  {
   "cell_type": "code",
   "execution_count": 35,
   "id": "0f61fbc8",
   "metadata": {},
   "outputs": [
    {
     "name": "stdout",
     "output_type": "stream",
     "text": [
      "Best value for C: 1000\n"
     ]
    }
   ],
   "source": [
    "X_train = train_data.drop(columns=['diagnosis'])  \n",
    "y_train = train_data['diagnosis']  \n",
    "X_test = test_data.drop(columns=['diagnosis'])  \n",
    "y_test = test_data['diagnosis']  \n",
    "\n",
    "# Define the parameter grid for C values\n",
    "param_grid = {'C': [0.1, 1, 10, 100, 1000]}\n",
    "svm = SVC()\n",
    "grid_search = GridSearchCV(estimator=svm, param_grid=param_grid, cv=5)\n",
    "\n",
    "# Fit the grid search to the training data\n",
    "grid_search.fit(X_train, y_train)\n",
    "\n",
    "# Get the best parameter value\n",
    "best_C = grid_search.best_params_['C']\n",
    "print(\"Best value for C:\", best_C)"
   ]
  },
  {
   "cell_type": "code",
   "execution_count": 33,
   "id": "3bc970a3",
   "metadata": {
    "scrolled": true
   },
   "outputs": [
    {
     "name": "stdout",
     "output_type": "stream",
     "text": [
      "Accuracy: 0.6047904191616766\n",
      "Precision: 0.5\n",
      "Recall: 0.06060606060606061\n",
      "F1 Score: 0.10810810810810813\n"
     ]
    }
   ],
   "source": [
    "best_svm = grid_search.best_estimator_\n",
    "\n",
    "\n",
    "y_pred = best_svm.predict(X_test)\n",
    "\n",
    "# Calculate accuracy\n",
    "accuracy = accuracy_score(y_test, y_pred)\n",
    "\n",
    "# Calculate precision\n",
    "precision = precision_score(y_test, y_pred, pos_label='M')\n",
    "\n",
    "# Calculate recall\n",
    "recall = recall_score(y_test, y_pred, pos_label='M')\n",
    "\n",
    "# Calculate F1 score\n",
    "f1 = f1_score(y_test, y_pred, pos_label='M')\n",
    "\n",
    "# Print the results\n",
    "print(\"Accuracy:\", accuracy)\n",
    "print(\"Precision:\", precision)\n",
    "print(\"Recall:\", recall)\n",
    "print(\"F1 Score:\", f1)"
   ]
  },
  {
   "cell_type": "markdown",
   "id": "0c5c9283",
   "metadata": {},
   "source": [
    "Neural Network"
   ]
  },
  {
   "cell_type": "code",
   "execution_count": 30,
   "id": "968a83b5",
   "metadata": {},
   "outputs": [
    {
     "name": "stdout",
     "output_type": "stream",
     "text": [
      "Best number of hidden nodes: 20\n",
      "Average cross-validation accuracy with best number of hidden nodes: 0.525\n"
     ]
    }
   ],
   "source": [
    "hidden_nodes_values = [10, 20, 30, 40, 50]\n",
    "\n",
    "cv_scores = {}\n",
    "\n",
    "# Iterate over each value of the number of hidden nodes\n",
    "for hidden_nodes in hidden_nodes_values:\n",
    "    # Initialize the Multi-layer Perceptron classifier\n",
    "    mlp = MLPClassifier(hidden_layer_sizes=(hidden_nodes,), max_iter=1000)\n",
    "    \n",
    "    # Perform 5-fold cross-validation and compute the mean accuracy\n",
    "    scores = cross_val_score(mlp, X_train, y_train, cv=5)\n",
    "    avg_score = np.mean(scores)\n",
    "    \n",
    "    # Store average score for this number of hidden nodes in the dictionary\n",
    "    cv_scores[hidden_nodes] = avg_score\n",
    "\n",
    "# Find the number of hidden nodes with the highest average score\n",
    "best_hidden_nodes = max(cv_scores, key=cv_scores.get)\n",
    "best_score = cv_scores[best_hidden_nodes]\n",
    "\n",
    "print(\"Best number of hidden nodes:\", best_hidden_nodes)\n",
    "print(\"Average cross-validation accuracy with best number of hidden nodes:\", best_score)"
   ]
  },
  {
   "cell_type": "code",
   "execution_count": 32,
   "id": "b89d225d",
   "metadata": {},
   "outputs": [
    {
     "name": "stdout",
     "output_type": "stream",
     "text": [
      "Accuracy: 0.6047904191616766\n",
      "Precision: 0.5\n",
      "Recall: 0.06060606060606061\n",
      "F1 Score: 0.10810810810810813\n"
     ]
    }
   ],
   "source": [
    "# Calculate evaluation metrics\n",
    "accuracy = accuracy_score(y_test, y_pred)\n",
    "precision = precision_score(y_test, y_pred, pos_label='M')  # Assuming 'M' is the positive label\n",
    "recall = recall_score(y_test, y_pred, pos_label='M')  # Assuming 'M' is the positive label\n",
    "f1 = f1_score(y_test, y_pred, pos_label='M')  # Assuming 'M' is the positive label\n",
    "\n",
    "# Reporting the results\n",
    "print(\"Accuracy:\", accuracy)\n",
    "print(\"Precision:\", precision)\n",
    "print(\"Recall:\", recall)\n",
    "print(\"F1 Score:\", f1)"
   ]
  },
  {
   "cell_type": "code",
   "execution_count": 37,
   "id": "c38169e3",
   "metadata": {},
   "outputs": [
    {
     "name": "stdout",
     "output_type": "stream",
     "text": [
      "Best value for max_depth: 3\n"
     ]
    }
   ],
   "source": [
    "# Define the parameter grid for max_depth values\n",
    "param_grid = {'max_depth': [3, 5, 7, 9, 11]} \n",
    "# Initialize the Decision Tree classifier\n",
    "dtree = DecisionTreeClassifier()\n",
    "\n",
    "# Initialize GridSearchCV with 5-fold cross-validation\n",
    "grid_search = GridSearchCV(estimator=dtree, param_grid=param_grid, cv=5)\n",
    "\n",
    "# Fit the grid search to the training data\n",
    "grid_search.fit(X_train, y_train)\n",
    "\n",
    "# Get the best parameter value\n",
    "best_max_depth = grid_search.best_params_['max_depth']\n",
    "print(\"Best value for max_depth:\", best_max_depth)"
   ]
  },
  {
   "cell_type": "code",
   "execution_count": 39,
   "id": "0448077d",
   "metadata": {
    "scrolled": true
   },
   "outputs": [
    {
     "name": "stdout",
     "output_type": "stream",
     "text": [
      "Accuracy: 0.9580838323353293\n",
      "Precision: 0.9538461538461539\n",
      "Recall: 0.9393939393939394\n",
      "F1 Score: 0.9465648854961831\n"
     ]
    }
   ],
   "source": [
    "accuracy = accuracy_score(y_test, y_pred)\n",
    "precision = precision_score(y_test, y_pred, pos_label='M')  \n",
    "recall = recall_score(y_test, y_pred, pos_label='M') \n",
    "f1 = f1_score(y_test, y_pred, pos_label='M') \n",
    "\n",
    "# Reporting the results\n",
    "print(\"Accuracy:\", accuracy)\n",
    "print(\"Precision:\", precision)\n",
    "print(\"Recall:\", recall)\n",
    "print(\"F1 Score:\", f1)"
   ]
  },
  {
   "cell_type": "code",
   "execution_count": 69,
   "id": "ab0b4364",
   "metadata": {},
   "outputs": [
    {
     "name": "stdout",
     "output_type": "stream",
     "text": [
      "best value for number  number of neighbors: 3\n"
     ]
    }
   ],
   "source": [
    "training_data = pd.read_csv(\"train.csv\")\n",
    "testing_data = pd.read_csv(\"test.csv\")\n",
    "\n",
    "X_train = training_data.drop(columns=['id', 'diagnosis'])\n",
    "y_train = training_data['diagnosis']\n",
    "X_test = testing_data.drop(columns=['id', 'diagnosis'])\n",
    "y_test = testing_data['diagnosis']\n",
    "# Standardize features\n",
    "scaler = StandardScaler()\n",
    "X_train_scaled = scaler.fit_transform(X_train)\n",
    "X_test_scaled = scaler.transform(X_test)\n",
    "# Define range of neighbors\n",
    "neighbors_range = range(1, 21)\n",
    "\n",
    "# Perform 5-fold cross-validation to find the best number of neighbors\n",
    "cv_scores = []\n",
    "for n_neighbors in neighbors_range:\n",
    "    knn = KNeighborsClassifier(n_neighbors=n_neighbors)\n",
    "    scores = cross_val_score(knn, X_train_scaled, y_train, cv=5)\n",
    "    cv_scores.append(scores.mean())\n",
    "\n",
    "# Find the best value number of neighbors\n",
    "best_neighbors = neighbors_range[cv_scores.index(max(cv_scores))]\n",
    "print(\"best value for number  number of neighbors:\", best_neighbors)\n",
    "\n"
   ]
  },
  {
   "cell_type": "code",
   "execution_count": 70,
   "id": "75081374",
   "metadata": {
    "scrolled": true
   },
   "outputs": [
    {
     "name": "stdout",
     "output_type": "stream",
     "text": [
      "Accuracy: 0.9700598802395209\n",
      "Precision: 0.9841269841269841\n",
      "Recall: 0.9393939393939394\n",
      "F1 Score: 0.9612403100775193\n"
     ]
    }
   ],
   "source": [
    "y_pred = final_knn.predict(X_test_scaled)\n",
    "\n",
    "# Calculate evaluation metrics\n",
    "accuracy = accuracy_score(y_test, y_pred)\n",
    "precision = precision_score(y_test, y_pred, pos_label='M')  \n",
    "recall = recall_score(y_test, y_pred, pos_label='M') \n",
    "f1 = f1_score(y_test, y_pred, pos_label='M') \n",
    "\n",
    "# Print the results\n",
    "print(\"Accuracy:\", accuracy)\n",
    "print(\"Precision:\", precision)\n",
    "print(\"Recall:\", recall)\n",
    "print(\"F1 Score:\", f1)"
   ]
  },
  {
   "cell_type": "markdown",
   "id": "d4610cc4",
   "metadata": {},
   "source": [
    "Advantages an Disadvantages \n",
    "1.Logistic regression\n",
    "  Advantages: Easily interpretable and has low computational cost\n",
    "  Disadvantages: logistic regression model is sensitive to outliers\n",
    " \n",
    "2.Support Vector Machine\n",
    "  Advantages: They are suitable for datasets with many features.\n",
    "  Disadvantages: It requires careful selection of parameters and can                  be memory intensive with large datasets.\n",
    "  \n",
    "3.Neural Networks\n",
    "  Advantages: It has ability to learn and adapt complex patterns\n",
    "  Disadvantages: It results in high computational cost when used with                  large datasets.\n",
    "  \n",
    "4.Decision Tree\n",
    "  Advantages: It is easy to interpret and visualize dtasets.\n",
    "  Disadvantages: They are instable and prone to overfitting.\n",
    "  \n",
    "5.K-Nearest Neighbors\n",
    "  Advantages: It is simple and easy to implement without requiring                 any training phase.\n",
    "  Disadvantages: It is sensitive to irrelevant features.\n",
    "  \n",
    "  \n",
    "Analysis:\n",
    "KNN algorithm performs comparatively well on the given datasets as it as the higher accuracy, recall, precision and F1 values.\n",
    "Accuracy: 0.9700598802395209\n",
    "Precision: 0.9841269841269841\n",
    "Recall: 0.9393939393939394\n",
    "F1 Score: 0.9612403100775193"
   ]
  }
 ],
 "metadata": {
  "kernelspec": {
   "display_name": "Python 3 (ipykernel)",
   "language": "python",
   "name": "python3"
  },
  "language_info": {
   "codemirror_mode": {
    "name": "ipython",
    "version": 3
   },
   "file_extension": ".py",
   "mimetype": "text/x-python",
   "name": "python",
   "nbconvert_exporter": "python",
   "pygments_lexer": "ipython3",
   "version": "3.11.5"
  }
 },
 "nbformat": 4,
 "nbformat_minor": 5
}
